{
 "cells": [
  {
   "cell_type": "code",
   "execution_count": null,
   "metadata": {},
   "outputs": [],
   "source": [
    "# Run face detection on a video"
   ]
  },
  {
   "cell_type": "code",
   "execution_count": null,
   "id": "921b5713",
   "metadata": {},
   "outputs": [],
   "source": [
    "import cv2\n",
    "import torch\n",
    "import numpy as np\n",
    "from IPython.display import display, Image \n",
    "from driver import io_shape_dict\n",
    "from driver_base import FINNExampleOverlay\n",
    "from utils import (clip_coords, scale_coords, letterbox, \n",
    "                   xywh2xyxy, non_max_suppression,  \n",
    "                   visualize_boxes)\n",
    "from models import Detect"
   ]
  },
  {
   "cell_type": "code",
   "execution_count": null,
   "id": "e160dfef",
   "metadata": {},
   "outputs": [],
   "source": [
    "def inference(img_org, driver):\n",
    "    img = img_org.copy()\n",
    "    img, ratio, (dw, dh) = letterbox(img, (416,416), auto=False)\n",
    "    img = img[:, :, ::-1]\n",
    "    img = np.ascontiguousarray(img)\n",
    "\n",
    "    img = img.astype(np.uint8)\n",
    "    driver_in = np.expand_dims(img, 0)\n",
    "\n",
    "    output = driver.execute(driver_in)\n",
    "\n",
    "    output = scale.transpose(1,2,3,0)*output\n",
    "    output = output.transpose(0,3,1,2)\n",
    "\n",
    "    output = torch.from_numpy(output)\n",
    "    pred = detect_head([output])[0]\n",
    "\n",
    "    pred = non_max_suppression(pred, conf_thres=0.10, iou_thres=0.10, classes=None, max_det=20)\n",
    "\n",
    "    # Process predictions\n",
    "    for i, det in enumerate(pred):  # per image\n",
    "\n",
    "        if len(det):\n",
    "            det[:, :4] = scale_coords(img.shape, det[:, :4], img_org.shape).round()\n",
    "\n",
    "            # Write results\n",
    "            for *xyxy, conf, cls in reversed(det):\n",
    "                c = int(cls)  # integer class\n",
    "                label = f'{names[c]} {conf:.2f}'\n",
    "                left, top = int(xyxy[0]), int(xyxy[1])\n",
    "                right, bottom = int(xyxy[2]), int(xyxy[3])\n",
    "                cv2.rectangle(img_org, (left, top), (right, bottom), (0,255,0), thickness=1)\n",
    "            \n",
    "    return img_org"
   ]
  },
  {
   "cell_type": "code",
   "execution_count": null,
   "id": "2780d3e3",
   "metadata": {},
   "outputs": [],
   "source": [
    "driver = FINNExampleOverlay(\n",
    "    bitfile_name=\"../bitfile/finn-accel.bit\",\n",
    "    platform=\"zynq-iodma\",\n",
    "    io_shape_dict=io_shape_dict,\n",
    "    batch_size=1,\n",
    "    runtime_weight_dir=\"runtime_weights/\",\n",
    ")"
   ]
  },
  {
   "cell_type": "code",
   "execution_count": null,
   "id": "73b6a613",
   "metadata": {},
   "outputs": [],
   "source": [
    "names = ['face']\n",
    "nc  = 1\n",
    "anchors = np.array([[10,14,23,27,37,58]]) / np.array([32])\n",
    "scale = np.load(\"scale.npy\")\n",
    "detect_head = Detect(nc, anchors)\n",
    "process_rate = 5 # Process frame at every nth frame"
   ]
  },
  {
   "cell_type": "code",
   "execution_count": null,
   "id": "b8c2697d",
   "metadata": {},
   "outputs": [],
   "source": [
    "video = cv2.VideoCapture(\"../../videoplayback.mp4\")\n",
    "display_handle=display(None, display_id=True)\n",
    "try:\n",
    "    frame_number = 0\n",
    "    while True:\n",
    "        _, frame = video.read()\n",
    "        if frame_number % process_rate == 0:\n",
    "            frame = inference(frame, driver)\n",
    "           \n",
    "            _, frame = cv2.imencode('.jpeg', frame)\n",
    "            display_handle.update(Image(data=frame.tobytes()))\n",
    "        frame_number += 1\n",
    "except KeyboardInterrupt:\n",
    "    pass\n",
    "finally:\n",
    "    video.release()\n",
    "    display_handle.update(None)"
   ]
  }
 ],
 "metadata": {
  "kernelspec": {
   "display_name": "Python 3",
   "language": "python",
   "name": "python3"
  },
  "language_info": {
   "codemirror_mode": {
    "name": "ipython",
    "version": 3
   },
   "file_extension": ".py",
   "mimetype": "text/x-python",
   "name": "python",
   "nbconvert_exporter": "python",
   "pygments_lexer": "ipython3",
   "version": "3.8.2"
  }
 },
 "nbformat": 4,
 "nbformat_minor": 5
}
